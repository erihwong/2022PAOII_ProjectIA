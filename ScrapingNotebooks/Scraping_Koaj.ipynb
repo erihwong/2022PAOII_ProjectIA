{
 "cells": [
  {
   "cell_type": "code",
   "execution_count": 28,
   "metadata": {},
   "outputs": [],
   "source": [
    "from selenium import webdriver\n",
    "from selenium.webdriver.common.by import By\n",
    "from selenium.webdriver.support.ui import WebDriverWait\n",
    "from selenium.webdriver.support import expected_conditions as EC\n",
    "import csv\n",
    "import time\n",
    "import pandas as pd\n",
    "import math"
   ]
  },
  {
   "cell_type": "code",
   "execution_count": 3,
   "metadata": {},
   "outputs": [],
   "source": [
    "#pip install selenium"
   ]
  },
  {
   "cell_type": "code",
   "execution_count": 71,
   "metadata": {},
   "outputs": [],
   "source": [
    "driver=webdriver.Chrome()"
   ]
  },
  {
   "cell_type": "code",
   "execution_count": 72,
   "metadata": {},
   "outputs": [],
   "source": [
    "Koaj_Categorias=[\n",
    "    \"https://koaj.ec/mujer/ropa/#\",\n",
    "    \"https://koaj.ec/hombre/ropa/#\",\n",
    "    \"https://koaj.ec/mujer/ropa/#/page-2\",\n",
    "    \"https://koaj.ec/hombre/ropa/#/page-2\",\n",
    "    \"https://koaj.ec/mujer/ropa/#/page-3\",\n",
    "    \"https://koaj.ec/hombre/ropa/#/page-3\",\n",
    "    \"https://koaj.ec/mujer/ropa/#/page-4\",\n",
    "    \"https://koaj.ec/hombre/ropa/#/page-4\",\n",
    "    \"https://koaj.ec/mujer/ropa/#/page-5\",\n",
    "    \"https://koaj.ec/hombre/ropa/#/page-5\",\n",
    "    \"https://koaj.ec/mujer/ropa/#/page-6\",\n",
    "    \"https://koaj.ec/hombre/ropa/#/page-6\",\n",
    "    \"https://koaj.ec/mujer/ropa/#/page-7\",\n",
    "    \"https://koaj.ec/hombre/ropa/#/page-7\",\n",
    "    \"https://koaj.ec/mujer/ropa/#/page-8\",\n",
    "    \"https://koaj.ec/hombre/ropa/#/page-8\",\n",
    "    \"https://koaj.ec/mujer/ropa/#/page-9\",\n",
    "    \"https://koaj.ec/hombre/ropa/#/page-9\",\n",
    "    \"https://koaj.ec/mujer/ropa/#/page-10\",\n",
    "    \"https://koaj.ec/hombre/ropa/#/page-10\",\n",
    "    \"https://koaj.ec/mujer/ropa/#/page-11\",\n",
    "    \"https://koaj.ec/hombre/ropa/#/page-11\",\n",
    "    \"https://koaj.ec/mujer/ropa/#/page-12\"\n",
    "]"
   ]
  },
  {
   "cell_type": "code",
   "execution_count": 73,
   "metadata": {},
   "outputs": [],
   "source": [
    "df = pd.DataFrame(columns=[\"alt\", \"src\", \"price\", \"target\"])"
   ]
  },
  {
   "cell_type": "markdown",
   "metadata": {},
   "source": [
    "# Scraping"
   ]
  },
  {
   "cell_type": "code",
   "execution_count": 74,
   "metadata": {},
   "outputs": [],
   "source": [
    "for categoria in Koaj_Categorias:\n",
    "    genero = categoria.split(\"/\")[3]\n",
    "    driver.get(categoria)\n",
    "    time.sleep(20)\n",
    "    products_imgs = driver.find_elements(By.XPATH, \"//li[@class='col-xs-6 col-md-3 product_list_block ajax_block_product format normal']/div/div/div/a/span/img\")\n",
    "    products_prices = driver.find_elements(By.XPATH, \"//li[@class='col-xs-6 col-md-3 product_list_block ajax_block_product format normal']/div/div/div[@class='pro_second_box']/div/span[@class='price product-price']\")\n",
    "    \n",
    "    for e in range(len(products_imgs)):\n",
    "        #print(products_imgs[e].get_attribute(\"src\"))\n",
    "        #print(products_imgs[e].get_attribute(\"alt\"))\n",
    "        #print(products_prices[e].text)\n",
    "        df.loc[len(df), df.columns] = products_imgs[e].get_attribute(\"alt\"), products_imgs[e].get_attribute(\"src\"), products_prices[e].text, genero"
   ]
  },
  {
   "cell_type": "code",
   "execution_count": 77,
   "metadata": {},
   "outputs": [],
   "source": [
    "df.to_csv(\"../ScrapedData/Koaj.csv\", index=False)"
   ]
  }
 ],
 "metadata": {
  "kernelspec": {
   "display_name": "Python 3 (ipykernel)",
   "language": "python",
   "name": "python3"
  },
  "language_info": {
   "codemirror_mode": {
    "name": "ipython",
    "version": 3
   },
   "file_extension": ".py",
   "mimetype": "text/x-python",
   "name": "python",
   "nbconvert_exporter": "python",
   "pygments_lexer": "ipython3",
   "version": "3.9.12"
  }
 },
 "nbformat": 4,
 "nbformat_minor": 2
}
