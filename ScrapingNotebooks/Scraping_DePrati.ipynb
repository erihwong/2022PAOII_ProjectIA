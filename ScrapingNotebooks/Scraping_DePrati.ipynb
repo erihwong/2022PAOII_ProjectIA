{
 "cells": [
  {
   "cell_type": "code",
   "execution_count": 31,
   "metadata": {},
   "outputs": [],
   "source": [
    "from selenium import webdriver\n",
    "from selenium.webdriver.common.by import By\n",
    "from selenium.webdriver.support.wait import WebDriverWait\n",
    "from selenium.webdriver.support import expected_conditions as EC\n",
    "import csv\n",
    "import time\n",
    "import pandas as pd"
   ]
  },
  {
   "cell_type": "code",
   "execution_count": 18,
   "metadata": {},
   "outputs": [],
   "source": [
    "#pip install selenium"
   ]
  },
  {
   "cell_type": "code",
   "execution_count": 36,
   "metadata": {},
   "outputs": [],
   "source": [
    "driver=webdriver.Chrome()"
   ]
  },
  {
   "cell_type": "code",
   "execution_count": 98,
   "metadata": {},
   "outputs": [],
   "source": [
    "DePrati_Tendencias=[\n",
    "    \"https://www.deprati.com.ec/midnight/c/0108A477\",\n",
    "    \"https://www.deprati.com.ec/natural-bloom/c/0108A479\"#,\n",
    "    \"https://www.deprati.com.ec/hiper-brillantes/c/0108A487\",\n",
    "    \"https://www.deprati.com.ec/eclectic/c/0108A481\",\n",
    "    \"https://www.deprati.com.ec/academy/c/0108A480\",\n",
    "    \"https://www.deprati.com.ec/artisian/c/0108A476\",\n",
    "    \"https://www.deprati.com.ec/nostalgia-denim/c/0108A478\"\n",
    "]"
   ]
  },
  {
   "cell_type": "code",
   "execution_count": 99,
   "metadata": {},
   "outputs": [],
   "source": [
    "df = pd.DataFrame(columns=[\"alt\", \"src\", \"price\"])"
   ]
  },
  {
   "cell_type": "markdown",
   "metadata": {},
   "source": [
    "# Final"
   ]
  },
  {
   "cell_type": "code",
   "execution_count": 101,
   "metadata": {},
   "outputs": [],
   "source": [
    "for tendencia in DePrati_Tendencias:\n",
    "    driver.get(tendencia)\n",
    "    \n",
    "    # Code from https://stackoverflow.com/questions/20986631/how-can-i-scroll-a-web-page-using-selenium-webdriver-in-python\n",
    "    # Get scroll height\n",
    "    last_height = driver.execute_script(\"return document.body.scrollHeight\")\n",
    "    while True:\n",
    "        # Scroll down to bottom\n",
    "        driver.execute_script(\"window.scrollTo(0, document.body.scrollHeight);\")\n",
    "    \n",
    "        # Wait to load page\n",
    "        time.sleep(5)\n",
    "    \n",
    "        # Calculate new scroll height and compare with last scroll height\n",
    "        new_height = driver.execute_script(\"return document.body.scrollHeight\")\n",
    "        if new_height == last_height:\n",
    "            break\n",
    "        last_height = new_height\n",
    "    driver.execute_script(\"window.scrollTo(0, 0);\")\n",
    "    elements_img = driver.find_elements(By.XPATH, \"//div[@class='product--lister--grid--item']/a/img\")\n",
    "    elements_price = driver.find_elements(By.XPATH, \"//div[@class='product--lister--grid--item']/div[@class='info--table']/div[@class='price--cell']/div[@class='disccount']\")\n",
    "    \n",
    "    for i in range(len(elements_img)):\n",
    "        df.loc[len(df), df.columns] = elements_img[i].get_attribute(\"alt\"), elements_img[i].get_attribute(\"src\"), elements_price[i].text"
   ]
  },
  {
   "cell_type": "code",
   "execution_count": 103,
   "metadata": {},
   "outputs": [
    {
     "data": {
      "text/html": [
       "<div>\n",
       "<style scoped>\n",
       "    .dataframe tbody tr th:only-of-type {\n",
       "        vertical-align: middle;\n",
       "    }\n",
       "\n",
       "    .dataframe tbody tr th {\n",
       "        vertical-align: top;\n",
       "    }\n",
       "\n",
       "    .dataframe thead th {\n",
       "        text-align: right;\n",
       "    }\n",
       "</style>\n",
       "<table border=\"1\" class=\"dataframe\">\n",
       "  <thead>\n",
       "    <tr style=\"text-align: right;\">\n",
       "      <th></th>\n",
       "      <th>alt</th>\n",
       "      <th>src</th>\n",
       "      <th>price</th>\n",
       "    </tr>\n",
       "  </thead>\n",
       "  <tbody>\n",
       "    <tr>\n",
       "      <th>0</th>\n",
       "      <td>JEAN SKINNY, H&amp;O, AZUL OSCURO, 78% ALGODÓN 20%...</td>\n",
       "      <td>https://images.deprati.com.ec/sys-master/image...</td>\n",
       "      <td>$35,99</td>\n",
       "    </tr>\n",
       "    <tr>\n",
       "      <th>1</th>\n",
       "      <td>CARDIGAN UNICOLOR, H&amp;O, NEGRO, 100% algodón</td>\n",
       "      <td>https://images.deprati.com.ec/sys-master/image...</td>\n",
       "      <td>$29,99</td>\n",
       "    </tr>\n",
       "    <tr>\n",
       "      <th>2</th>\n",
       "      <td>JEAN SKINNY, H&amp;O, AZUL MEDIO, 81% ALGODÓN 17% ...</td>\n",
       "      <td>https://images.deprati.com.ec/sys-master/image...</td>\n",
       "      <td>$35,99</td>\n",
       "    </tr>\n",
       "    <tr>\n",
       "      <th>3</th>\n",
       "      <td>JEAN MON, H&amp;O, AZUL CLARO, 98% ALGODON 2% ELAS...</td>\n",
       "      <td>https://images.deprati.com.ec/sys-master/image...</td>\n",
       "      <td>$35,99</td>\n",
       "    </tr>\n",
       "    <tr>\n",
       "      <th>4</th>\n",
       "      <td>FALDA SATIN C APERTURA, H&amp;O TRYBU, LILA, 100% ...</td>\n",
       "      <td>https://images.deprati.com.ec/sys-master/image...</td>\n",
       "      <td>$32,98</td>\n",
       "    </tr>\n",
       "    <tr>\n",
       "      <th>...</th>\n",
       "      <td>...</td>\n",
       "      <td>...</td>\n",
       "      <td>...</td>\n",
       "    </tr>\n",
       "    <tr>\n",
       "      <th>610</th>\n",
       "      <td>BUZO C  COUTOUT UNICOLOR , H&amp;O TRYBU, ARENA, 1...</td>\n",
       "      <td>https://images.deprati.com.ec/sys-master/image...</td>\n",
       "      <td>$29,99</td>\n",
       "    </tr>\n",
       "    <tr>\n",
       "      <th>611</th>\n",
       "      <td>SWEATER RAYAS PSICODELICAS , H&amp;O TRYBU, CELEST...</td>\n",
       "      <td>https://images.deprati.com.ec/sys-master/image...</td>\n",
       "      <td>$29,99</td>\n",
       "    </tr>\n",
       "    <tr>\n",
       "      <th>612</th>\n",
       "      <td>CHAQUETA C LAVADOS , H&amp;O TRYBU, AZUL COMBINADO...</td>\n",
       "      <td>https://images.deprati.com.ec/sys-master/image...</td>\n",
       "      <td>$45,99</td>\n",
       "    </tr>\n",
       "    <tr>\n",
       "      <th>613</th>\n",
       "      <td>JEAN PATCHWORK C DESGASTE , H&amp;O TRYBU, AZUL HI...</td>\n",
       "      <td>https://images.deprati.com.ec/sys-master/image...</td>\n",
       "      <td>$39,98</td>\n",
       "    </tr>\n",
       "    <tr>\n",
       "      <th>614</th>\n",
       "      <td>CAMISETA SMCRP ESTAMPADA, H&amp;O TRYBU, CELESTE, ...</td>\n",
       "      <td>https://images.deprati.com.ec/sys-master/image...</td>\n",
       "      <td>$15,99</td>\n",
       "    </tr>\n",
       "  </tbody>\n",
       "</table>\n",
       "<p>615 rows × 3 columns</p>\n",
       "</div>"
      ],
      "text/plain": [
       "                                                   alt  \\\n",
       "0    JEAN SKINNY, H&O, AZUL OSCURO, 78% ALGODÓN 20%...   \n",
       "1          CARDIGAN UNICOLOR, H&O, NEGRO, 100% algodón   \n",
       "2    JEAN SKINNY, H&O, AZUL MEDIO, 81% ALGODÓN 17% ...   \n",
       "3    JEAN MON, H&O, AZUL CLARO, 98% ALGODON 2% ELAS...   \n",
       "4    FALDA SATIN C APERTURA, H&O TRYBU, LILA, 100% ...   \n",
       "..                                                 ...   \n",
       "610  BUZO C  COUTOUT UNICOLOR , H&O TRYBU, ARENA, 1...   \n",
       "611  SWEATER RAYAS PSICODELICAS , H&O TRYBU, CELEST...   \n",
       "612  CHAQUETA C LAVADOS , H&O TRYBU, AZUL COMBINADO...   \n",
       "613  JEAN PATCHWORK C DESGASTE , H&O TRYBU, AZUL HI...   \n",
       "614  CAMISETA SMCRP ESTAMPADA, H&O TRYBU, CELESTE, ...   \n",
       "\n",
       "                                                   src   price  \n",
       "0    https://images.deprati.com.ec/sys-master/image...  $35,99  \n",
       "1    https://images.deprati.com.ec/sys-master/image...  $29,99  \n",
       "2    https://images.deprati.com.ec/sys-master/image...  $35,99  \n",
       "3    https://images.deprati.com.ec/sys-master/image...  $35,99  \n",
       "4    https://images.deprati.com.ec/sys-master/image...  $32,98  \n",
       "..                                                 ...     ...  \n",
       "610  https://images.deprati.com.ec/sys-master/image...  $29,99  \n",
       "611  https://images.deprati.com.ec/sys-master/image...  $29,99  \n",
       "612  https://images.deprati.com.ec/sys-master/image...  $45,99  \n",
       "613  https://images.deprati.com.ec/sys-master/image...  $39,98  \n",
       "614  https://images.deprati.com.ec/sys-master/image...  $15,99  \n",
       "\n",
       "[615 rows x 3 columns]"
      ]
     },
     "execution_count": 103,
     "metadata": {},
     "output_type": "execute_result"
    }
   ],
   "source": [
    "df"
   ]
  },
  {
   "cell_type": "code",
   "execution_count": 105,
   "metadata": {},
   "outputs": [],
   "source": [
    "df.to_csv(\"./DePrati.csv\", index=False)"
   ]
  }
 ],
 "metadata": {
  "kernelspec": {
   "display_name": "Python 3 (ipykernel)",
   "language": "python",
   "name": "python3"
  },
  "language_info": {
   "codemirror_mode": {
    "name": "ipython",
    "version": 3
   },
   "file_extension": ".py",
   "mimetype": "text/x-python",
   "name": "python",
   "nbconvert_exporter": "python",
   "pygments_lexer": "ipython3",
   "version": "3.9.12"
  }
 },
 "nbformat": 4,
 "nbformat_minor": 2
}
