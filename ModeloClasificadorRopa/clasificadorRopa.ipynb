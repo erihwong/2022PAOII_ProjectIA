{
 "cells": [
  {
   "cell_type": "code",
   "execution_count": 15,
   "metadata": {},
   "outputs": [],
   "source": [
    "import os\n",
    "import matplotlib.pyplot as plt\n",
    "import matplotlib.image as img\n",
    "import tensorflow.keras as keras\n",
    "import numpy as np\n",
    "import tensorflow as tf\n",
    "import pandas as pd\n",
    "import sklearn\n",
    "import cv2\n",
    "\n",
    "from sklearn.cluster import KMeans\n",
    "from collections import Counter\n",
    "from skimage.color import rgb2lab, deltaE_cie76\n",
    "from rembg import remove\n",
    "\n",
    "from tensorflow.keras.preprocessing.image import ImageDataGenerator\n",
    "\n",
    "import keras.utils as image\n",
    "from keras.applications.vgg16 import preprocess_input\n",
    "\n",
    "config = tf.compat.v1.ConfigProto()\n",
    "config.gpu_options.allow_growth = True\n",
    "tf.compat.v1.keras.backend.set_session(tf.compat.v1.Session(config=config))"
   ]
  },
  {
   "attachments": {},
   "cell_type": "markdown",
   "metadata": {},
   "source": [
    "Modelo de para Clasificar Ropa en los distintos Labels"
   ]
  },
  {
   "cell_type": "code",
   "execution_count": 16,
   "metadata": {},
   "outputs": [
    {
     "ename": "FileNotFoundError",
     "evalue": "[WinError 2] The system cannot find the file specified: '.\\\\Train'",
     "output_type": "error",
     "traceback": [
      "\u001b[1;31m---------------------------------------------------------------------------\u001b[0m",
      "\u001b[1;31mFileNotFoundError\u001b[0m                         Traceback (most recent call last)",
      "\u001b[1;32m~\\AppData\\Local\\Temp\\ipykernel_19176\\4028366932.py\u001b[0m in \u001b[0;36m<module>\u001b[1;34m\u001b[0m\n\u001b[0;32m      1\u001b[0m \u001b[1;31m#cambiar directorio de ser necesario\u001b[0m\u001b[1;33m\u001b[0m\u001b[1;33m\u001b[0m\u001b[0m\n\u001b[0;32m      2\u001b[0m \u001b[0mdatasetdir\u001b[0m \u001b[1;33m=\u001b[0m \u001b[1;34mr'.\\Train'\u001b[0m\u001b[1;33m\u001b[0m\u001b[1;33m\u001b[0m\u001b[0m\n\u001b[1;32m----> 3\u001b[1;33m \u001b[0mos\u001b[0m\u001b[1;33m.\u001b[0m\u001b[0mchdir\u001b[0m\u001b[1;33m(\u001b[0m\u001b[0mdatasetdir\u001b[0m\u001b[1;33m)\u001b[0m\u001b[1;33m\u001b[0m\u001b[1;33m\u001b[0m\u001b[0m\n\u001b[0m\u001b[0;32m      4\u001b[0m \u001b[0mbatch_size\u001b[0m \u001b[1;33m=\u001b[0m \u001b[1;36m5\u001b[0m\u001b[1;33m\u001b[0m\u001b[1;33m\u001b[0m\u001b[0m\n",
      "\u001b[1;31mFileNotFoundError\u001b[0m: [WinError 2] The system cannot find the file specified: '.\\\\Train'"
     ]
    }
   ],
   "source": [
    "#cambiar directorio de ser necesario\n",
    "datasetdir = r'.\\Train'\n",
    "os.chdir(datasetdir)\n",
    "batch_size = 5"
   ]
  },
  {
   "cell_type": "code",
   "execution_count": null,
   "metadata": {},
   "outputs": [],
   "source": [
    "#Funcion para cargar data y clasificarla en data para entrenamiento (%90) y para validacion (%10)\n",
    "def DataLoad(shape, preprocessing): \n",
    "    \n",
    "    #aqui se agrega los parametros para realizar Data Augmentation\n",
    "    imgdatagen = ImageDataGenerator(\n",
    "        preprocessing_function = preprocessing,\n",
    "        rotation_range=10, width_shift_range=0.1, height_shift_range=0.1, shear_range=0.15, zoom_range=0.1, \n",
    "        channel_shift_range=10., horizontal_flip=True,\n",
    "        validation_split = 0.1,\n",
    "    )\n",
    "\n",
    "    height, width = shape\n",
    "\n",
    "    #Se declaran los 17 labels de clasificacion y sus dimensiones\n",
    "    train_dataset = imgdatagen.flow_from_directory(\n",
    "        os.getcwd(),\n",
    "        target_size = (height, width), \n",
    "        classes = ['abrigo', 'blazer', 'blusa', 'boxer', 'camisa',\n",
    "                  'chaleco', 'enterizo', 'falda', 'joggers', 'legging',\n",
    "                  'medias', 'pantalon', 'panty', 'short', 'sosten', 'trajedebaño', 'vestido'],\n",
    "        batch_size = batch_size,\n",
    "        subset = 'training', \n",
    "    )\n",
    "\n",
    "    val_dataset = imgdatagen.flow_from_directory(\n",
    "        os.getcwd(),\n",
    "        target_size = (height, width), \n",
    "        classes = ['abrigo', 'blazer', 'blusa', 'boxer', 'camisa',\n",
    "                  'chaleco', 'enterizo', 'falda', 'joggers', 'legging',\n",
    "                  'medias', 'pantalon', 'panty', 'short', 'sosten', 'trajedebaño', 'vestido'],\n",
    "        batch_size = batch_size,\n",
    "        subset = 'validation'\n",
    "    )\n",
    "    return train_dataset, val_dataset"
   ]
  },
  {
   "cell_type": "code",
   "execution_count": null,
   "metadata": {},
   "outputs": [],
   "source": [
    "#se carga la red vgg16 \n",
    "vgg16 = keras.applications.vgg16\n",
    "\n",
    "#usamos nuestra funcion dataload para cargar nuestra imagenes y procesarlas para que encaje con el modelo pre procesado\n",
    "train_dataset, val_dataset = DataLoad((224,224), preprocessing=vgg16.preprocess_input)\n",
    "x_train, y_train = next(train_dataset)\n",
    "\n",
    "#obtenemos el modelo convolucional vgg16, sin incluir las capas finales de clasificacion\n",
    "conv_model = vgg16.VGG16(weights='imagenet', include_top=False)\n",
    "conv_model.summary()"
   ]
  },
  {
   "cell_type": "code",
   "execution_count": null,
   "metadata": {},
   "outputs": [],
   "source": [
    "#convertimos en modelo de multiples dimensiones a un arreglo de una dimension\n",
    "x = keras.layers.Flatten()(conv_model.output)\n",
    "\n",
    "#agregamos 3 capas fully conected de con 100 neuronas con funcion de activiacion relu \n",
    "x = keras.layers.Dense(100, activation='relu')(x)\n",
    "x = keras.layers.Dense(100, activation='relu')(x)\n",
    "x = keras.layers.Dense(100, activation='relu')(x)\n",
    "\n",
    "#finalmente una funcion softmax para que clasifique la respuesta a uno de los 17 labels\n",
    "predictions = keras.layers.Dense(17, activation='softmax')(x)\n",
    "\n",
    "# creacion del modelo completo\n",
    "full_model = keras.models.Model(inputs=conv_model.input, outputs=predictions)\n",
    "full_model.summary()"
   ]
  },
  {
   "cell_type": "code",
   "execution_count": null,
   "metadata": {},
   "outputs": [],
   "source": [
    "#aseguramos que las capas de la vgg16 no sean entrenadas \n",
    "for layer in conv_model.layers:\n",
    "    layer.trainable = False"
   ]
  },
  {
   "cell_type": "code",
   "execution_count": null,
   "metadata": {},
   "outputs": [],
   "source": [
    "#compilamos el modelo\n",
    "#la funcion de costo categorical crossentropy porque son multiples clases excluyentes entre si\n",
    "#optimizaremos con learning rate muy pequeño y adamax\n",
    "full_model.compile(loss='categorical_crossentropy',\n",
    "                  optimizer=keras.optimizers.Adamax(learning_rate=0.001),\n",
    "                  metrics=['acc'])"
   ]
  },
  {
   "cell_type": "code",
   "execution_count": null,
   "metadata": {},
   "outputs": [],
   "source": [
    "#entrenamos nuestro modelo\n",
    "#las epocas se ajustan dependiendo de los resultados\n",
    "history = full_model.fit(\n",
    "    train_dataset, \n",
    "    validation_data = val_dataset,\n",
    "    workers=0,\n",
    "    epochs=8,\n",
    ")"
   ]
  },
  {
   "cell_type": "code",
   "execution_count": null,
   "metadata": {},
   "outputs": [],
   "source": [
    "#guardamos el modelo\n",
    "full_model.save(\"modelo_CR.h5\")"
   ]
  },
  {
   "cell_type": "code",
   "execution_count": null,
   "metadata": {},
   "outputs": [],
   "source": [
    "#evaluamos nuestro modelo con las imagenes de Test\n",
    "test_dir= r'.\\Test'\n",
    "test_datagen = ImageDataGenerator()\n",
    "\n",
    "test_generator = test_datagen.flow_from_directory(test_dir, target_size=(224, 224), batch_size=3, class_mode='categorical')\n",
    "\n",
    "\n",
    "Testresults = full_model.evaluate(test_generator)"
   ]
  },
  {
   "cell_type": "code",
   "execution_count": null,
   "metadata": {},
   "outputs": [],
   "source": [
    "\n",
    "#para pruebas cambiamos el directorio a la imagen que se quiere probar\n",
    "img_path = r'.\\Test\\short\\short-milen.jpg'\n",
    "\n",
    "#se preprocesa la imagen\n",
    "img = image.load_img(img_path, target_size=(224,224))\n",
    "x = image.img_to_array(img)\n",
    "x = np.expand_dims(x, axis=0)\n",
    "x = preprocess_input(x)\n",
    "\n",
    "#se la pasa por el modelo para obtener una prediccion\n",
    "imagen_prediccion=full_model.predict(x)\n",
    "\n",
    "#visualizar imagen\n",
    "plt.imshow(img)"
   ]
  },
  {
   "cell_type": "code",
   "execution_count": null,
   "metadata": {},
   "outputs": [],
   "source": [
    "#funcion para obtener el nombre de la clase\n",
    "def obtener_nombre_clase(index):\n",
    "   for class_string, class_index in test_generator.class_indices.items():\n",
    "      if class_index == index:\n",
    "         return class_string\n",
    "\n",
    "#indice de imagen    \n",
    "indice_clase_prediccion = np.argmax(imagen_prediccion, axis = 1)\n",
    "print('indice predecido es:', indice_clase_prediccion) \n",
    "\n",
    "#label a usarse en busqueda\n",
    "label_prediccion = obtener_nombre_clase(clase_prediccion)\n",
    "print(\"label: \" + label_prediccion)"
   ]
  },
  {
   "attachments": {},
   "cell_type": "markdown",
   "metadata": {},
   "source": [
    "Quitar Background a Imagenes"
   ]
  },
  {
   "cell_type": "code",
   "execution_count": null,
   "metadata": {},
   "outputs": [],
   "source": [
    "#ruta donde esta la imagen\n",
    "input_path = r'..\\Test\\short\\short-milen.jpg'\n",
    "#ruta donde se guardara imagen\n",
    "output_path = r'..\\Test\\short\\sinbg-short-milen2.png'\n",
    "input = Image.open(input_path)\n",
    "output = remove(input)\n",
    "output.save(output_path)"
   ]
  },
  {
   "attachments": {},
   "cell_type": "markdown",
   "metadata": {},
   "source": [
    "Clasificación de Colores"
   ]
  },
  {
   "cell_type": "code",
   "execution_count": 17,
   "metadata": {},
   "outputs": [],
   "source": [
    "#funcion para obtener imagen\n",
    "def get_imagen(imagen_path):\n",
    "    imagen = cv2.imread(imagen_path)\n",
    "    imagen = cv2.cvtColor(imagen, cv2.COLOR_BGR2RGB)\n",
    "    return imagen\n",
    "\n",
    "#funcion para convertir a hexadecimal    \n",
    "def RGB2HEX(color):\n",
    "    \n",
    "    return \"#{:02x}{:02x}{:02x}\".format(int(color[0]), int(color[1]), int(color[2]))"
   ]
  },
  {
   "cell_type": "code",
   "execution_count": 9,
   "metadata": {},
   "outputs": [],
   "source": [
    "#declarar ruta de imagen\n",
    "imagen = get_imagen(r'..\\Test\\short\\sinbg-short-milen.png')\n",
    "#el numero de colores del resultado\n",
    "num_colores = 5\n",
    "resized_imagen = imagen.reshape(imagen.shape[0]*imagen.shape[1], 3)\n",
    "\n",
    "#clasificacion por clusters de los colores\n",
    "clf = KMeans(n_clusters = num_colores)\n",
    "labels = clf.fit_predict(resized_imagen)"
   ]
  },
  {
   "cell_type": "code",
   "execution_count": 18,
   "metadata": {},
   "outputs": [
    {
     "name": "stdout",
     "output_type": "stream",
     "text": [
      "3 3 3\n",
      "202 202 202\n",
      "137 137 136\n",
      "84 83 82\n",
      "173 172 172\n",
      "[array([3.46947988, 3.42120151, 3.32310819]), array([202.24312186, 202.30008017, 202.92633735]), array([137.67199694, 137.22651679, 136.12278098]), array([84.19007587, 83.4740885 , 82.31432216]), array([173.08096683, 172.57837033, 172.23625566])]\n"
     ]
    }
   ],
   "source": [
    "#transformacion de resultado de labels a hex y rgb\n",
    "num_labels = Counter(labels)\n",
    "\n",
    "center_colors = clf.cluster_centers_\n",
    "\n",
    "\n",
    "ordered_colors = [center_colors[i] for i in num_labels.keys()]\n",
    "\n",
    "#arreglo de resultado\n",
    "hex_colors = [RGB2HEX(ordered_colors[i]) for i in num_labels.keys()]\n",
    "rgb_colors = [ordered_colors[i] for i in num_labels.keys()]\n",
    "#para obtener rgb en ints - (int(color[0]), int(color[1]), int(color[2]))\n"
   ]
  }
 ],
 "metadata": {
  "kernelspec": {
   "display_name": "base",
   "language": "python",
   "name": "python3"
  },
  "language_info": {
   "codemirror_mode": {
    "name": "ipython",
    "version": 3
   },
   "file_extension": ".py",
   "mimetype": "text/x-python",
   "name": "python",
   "nbconvert_exporter": "python",
   "pygments_lexer": "ipython3",
   "version": "3.9.13"
  },
  "orig_nbformat": 4,
  "vscode": {
   "interpreter": {
    "hash": "fc9c3533734cf7d748e5ac075173c2466cb2363047d837c681fc6303d9c84103"
   }
  }
 },
 "nbformat": 4,
 "nbformat_minor": 2
}
