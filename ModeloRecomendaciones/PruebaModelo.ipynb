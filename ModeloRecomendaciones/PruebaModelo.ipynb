{
 "cells": [
  {
   "cell_type": "code",
   "execution_count": 1,
   "id": "06ce7168",
   "metadata": {},
   "outputs": [],
   "source": [
    "import pickle"
   ]
  },
  {
   "cell_type": "code",
   "execution_count": 2,
   "id": "2f61b4e4",
   "metadata": {},
   "outputs": [],
   "source": [
    "loaded_model = pickle.load(open(\"modelo_recomendaciones.sav\", 'rb'))\n",
    "loaded_vectorizer = pickle.load(open(\"vector_recomendaciones.sav\", 'rb'))"
   ]
  },
  {
   "cell_type": "code",
   "execution_count": 13,
   "id": "21105dfb",
   "metadata": {},
   "outputs": [],
   "source": [
    "def print_cluster(i):\n",
    "    print(\"Cluster %d:\" % i),\n",
    "    for ind in order_centroids[i, :10]:\n",
    "        print(' %s' % terms[ind]),\n",
    "    print"
   ]
  },
  {
   "cell_type": "code",
   "execution_count": 4,
   "id": "1e554f8a",
   "metadata": {
    "collapsed": true
   },
   "outputs": [
    {
     "name": "stdout",
     "output_type": "stream",
     "text": [
      "Top terms per cluster:\n",
      "Cluster 0:\n",
      " estampada\n",
      " camiseta\n",
      " corta\n",
      " manga\n",
      " navigare\n",
      " taxi\n",
      " escolar\n",
      " estampado\n",
      " básica\n",
      " august\n",
      "Cluster 1:\n",
      " blusa\n",
      " navigare\n",
      " labelle\n",
      " unicolor\n",
      " poliéster\n",
      " manga\n",
      " crop\n",
      " cuello\n",
      " nickimarcs\n",
      " pantalón\n",
      "Cluster 2:\n",
      " camiseta\n",
      " pantalón\n",
      " estampado\n",
      " labelle\n",
      " unicolor\n",
      " buzo\n",
      " august\n",
      " polo\n",
      " chompa\n",
      " manga\n",
      "Cluster 3:\n",
      " pack\n",
      " camisa\n",
      " medias\n",
      " executive\n",
      " panty\n",
      " manga\n",
      " larga\n",
      " august\n",
      " bóxer\n",
      " cuadros\n",
      "Cluster 4:\n",
      " jean\n",
      " just\n",
      " tubo\n",
      " jeans\n",
      " skinny\n",
      " recto\n",
      " slim\n",
      " jegging\n",
      " alto\n",
      " fit\n",
      "Cluster 5:\n",
      " lady\n",
      " eta\n",
      " blusa\n",
      " holgada\n",
      " tejido\n",
      " cárdigan\n",
      " vestir\n",
      " pantalón\n",
      " cuello\n",
      " floreada\n",
      "Cluster 6:\n",
      " foto\n",
      " tallas\n",
      " varias\n",
      " caballero\n",
      " dama\n",
      " boxer\n",
      " blanco\n",
      " azul\n",
      " gris\n",
      " negro\n",
      "Cluster 7:\n",
      " taxi\n",
      " crop\n",
      " top\n",
      " chompa\n",
      " camiseta\n",
      " buzo\n",
      " pantalón\n",
      " chaqueta\n",
      " short\n",
      " estampado\n",
      "Cluster 8:\n",
      " cuello\n",
      " redondo\n",
      " camiseta\n",
      " buzo\n",
      " etabasic\n",
      " estampado\n",
      " manga\n",
      " corta\n",
      " unicolor\n",
      " larga\n",
      "Cluster 9:\n",
      " varias\n",
      " tallas\n",
      " foto\n",
      " mujer\n",
      " negro\n",
      " dama\n",
      " juvenil\n",
      " bali\n",
      " panty\n",
      " brasier\n"
     ]
    },
    {
     "name": "stderr",
     "output_type": "stream",
     "text": [
      "C:\\Users\\erick\\anaconda3\\lib\\site-packages\\sklearn\\utils\\deprecation.py:87: FutureWarning: Function get_feature_names is deprecated; get_feature_names is deprecated in 1.0 and will be removed in 1.2. Please use get_feature_names_out instead.\n",
      "  warnings.warn(msg, category=FutureWarning)\n"
     ]
    }
   ],
   "source": [
    "print(\"Top terms per cluster:\")\n",
    "order_centroids = loaded_model.cluster_centers_.argsort()[:, ::-1]\n",
    "terms = loaded_vectorizer.get_feature_names()\n",
    "for i in range(10):\n",
    "    print_cluster(i)"
   ]
  },
  {
   "cell_type": "code",
   "execution_count": 5,
   "id": "6561371c",
   "metadata": {},
   "outputs": [],
   "source": [
    "def show_recommendations(product):\n",
    "    #print(\"Cluster ID:\")\n",
    "    Y = loaded_vectorizer.transform([product])\n",
    "    prediction = loaded_model.predict(Y)\n",
    "    #print(prediction)\n",
    "    print_cluster(prediction[0])"
   ]
  },
  {
   "cell_type": "code",
   "execution_count": 14,
   "id": "0f14f6ff",
   "metadata": {},
   "outputs": [
    {
     "name": "stdout",
     "output_type": "stream",
     "text": [
      "Cluster 3:\n",
      " pack\n",
      " camisa\n",
      " medias\n",
      " executive\n",
      " panty\n",
      " manga\n",
      " larga\n",
      " august\n",
      " bóxer\n",
      " cuadros\n"
     ]
    }
   ],
   "source": [
    "show_recommendations(\"camisa rosa\")"
   ]
  },
  {
   "cell_type": "code",
   "execution_count": 7,
   "id": "2b355814",
   "metadata": {},
   "outputs": [],
   "source": [
    "#se deben instalar ambas librerias\n",
    "#pip install beautifulsoup4\n",
    "#pip install google"
   ]
  },
  {
   "cell_type": "code",
   "execution_count": 8,
   "id": "b2a218cc",
   "metadata": {},
   "outputs": [],
   "source": [
    "from googlesearch import search"
   ]
  },
  {
   "cell_type": "code",
   "execution_count": 10,
   "id": "8761b7ce",
   "metadata": {},
   "outputs": [
    {
     "name": "stdout",
     "output_type": "stream",
     "text": [
      "https://www.deprati.com.ec/camisas/c/020101\n",
      "https://koaj.ec/hombre/ropa/camisas/\n",
      "https://lee.com.ec/product-category/men/men-camisas/\n",
      "https://es.wikipedia.org/wiki/Camisa\n",
      "https://pical.com.ec/ropa-formal/camisas.html\n",
      "https://www.etafashion.com/es_EC/HOMBRES/MODA-ADULTO/CAMISAS/c/10202816399\n",
      "https://www.zara.com/ec/es/hombre-camisas-l737.html\n",
      "https://indie.com.ec/camisas-81\n",
      "https://pinto.com.ec/pinto-hombre-moda-camisas/b7-camisa-regular-fit-ml-25185.html\n",
      "https://pinto.com.ec/pinto-hombre-moda-camisas/22-2-camisa-slim-fit-h-56109.html\n"
     ]
    }
   ],
   "source": [
    "query = \"camisa\"\n",
    "for j in search(query, tld=\"co.in\", num=10, stop=10, pause=2):\n",
    "    print(j)"
   ]
  }
 ],
 "metadata": {
  "kernelspec": {
   "display_name": "Python 3 (ipykernel)",
   "language": "python",
   "name": "python3"
  },
  "language_info": {
   "codemirror_mode": {
    "name": "ipython",
    "version": 3
   },
   "file_extension": ".py",
   "mimetype": "text/x-python",
   "name": "python",
   "nbconvert_exporter": "python",
   "pygments_lexer": "ipython3",
   "version": "3.9.12"
  }
 },
 "nbformat": 4,
 "nbformat_minor": 5
}
