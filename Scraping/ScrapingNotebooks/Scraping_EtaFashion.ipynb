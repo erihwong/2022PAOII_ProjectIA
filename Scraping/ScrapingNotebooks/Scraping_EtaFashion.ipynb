{
 "cells": [
  {
   "cell_type": "code",
   "execution_count": 1,
   "metadata": {},
   "outputs": [],
   "source": [
    "from selenium import webdriver\n",
    "from selenium.webdriver.common.by import By\n",
    "from selenium.webdriver.support.wait import WebDriverWait\n",
    "from selenium.webdriver.support import expected_conditions as EC\n",
    "import csv\n",
    "import time\n",
    "import pandas as pd\n",
    "import math"
   ]
  },
  {
   "cell_type": "code",
   "execution_count": 4,
   "metadata": {},
   "outputs": [],
   "source": [
    "#pip install selenium"
   ]
  },
  {
   "cell_type": "code",
   "execution_count": 2,
   "metadata": {},
   "outputs": [],
   "source": [
    "driver=webdriver.Chrome()"
   ]
  },
  {
   "cell_type": "code",
   "execution_count": 3,
   "metadata": {},
   "outputs": [],
   "source": [
    "EtaFashion_Categorias=[\n",
    "    \"https://www.etafashion.com/es_EC/MUJERES/c/101\",\n",
    "    \"https://www.etafashion.com/es_EC/HOMBRES/c/102\",\n",
    "    \"https://www.etafashion.com/es_EC/INFANTIL/c/104\"\n",
    "]"
   ]
  },
  {
   "cell_type": "code",
   "execution_count": 5,
   "metadata": {},
   "outputs": [],
   "source": [
    "df = pd.DataFrame(columns=[\"alt\", \"src\", \"price\", \"target\"])"
   ]
  },
  {
   "cell_type": "markdown",
   "metadata": {},
   "source": [
    "# Scraping"
   ]
  },
  {
   "cell_type": "code",
   "execution_count": 6,
   "metadata": {},
   "outputs": [
    {
     "name": "stdout",
     "output_type": "stream",
     "text": [
      "---------------Busqueda en page 103 terminada\n",
      "---------------Busqueda en page 75 terminada\n",
      "---------------Busqueda en page 70 terminada\n"
     ]
    }
   ],
   "source": [
    "for categoria in EtaFashion_Categorias:\n",
    "    if(\"MUJERES\" in categoria):\n",
    "        target = \"mujer\"\n",
    "    elif(\"HOMBRES\" in categoria):\n",
    "        target = \"hombre\"\n",
    "    else:\n",
    "        target = \"infante\"\n",
    "    \n",
    "    driver.get(categoria)\n",
    "    items_num = driver.find_element(By.XPATH, \"//div[@class='pagination-bar-results']\").text\n",
    "    items_num = items_num.split(\" \")[0].replace(\".\", \"\")\n",
    "    pg_num = math.ceil((int(items_num)/21))\n",
    "    \n",
    "    for i in range(pg_num):\n",
    "        products_imgs = driver.find_elements(By.XPATH, \"//div[@class='product-item']/a/img\")\n",
    "        products_prices = driver.find_elements(By.XPATH, \"//div[@class='product-item']/div[@class='details']/div\")\n",
    "        for e in range(len(products_imgs)):\n",
    "            df.loc[len(df), df.columns] = products_imgs[e].get_attribute(\"alt\"), products_imgs[e].get_attribute(\"src\"), products_prices[e].text, target\n",
    "        try:\n",
    "            btn_next=driver.find_element(By.XPATH, \"//a[@class='glyphicon glyphicon-chevron-right']\")\n",
    "            btn_next.click()\n",
    "        except:\n",
    "            driver.get(categoria+\"?q=%3Amodifiedtime&page=\"+str(i+1))\n",
    "            #print(\"page: \", i)\n",
    "            print(\"---------------Busqueda en page \" + str(i) + \" terminada\")"
   ]
  },
  {
   "cell_type": "code",
   "execution_count": 9,
   "metadata": {},
   "outputs": [
    {
     "data": {
      "text/html": [
       "<div>\n",
       "<style scoped>\n",
       "    .dataframe tbody tr th:only-of-type {\n",
       "        vertical-align: middle;\n",
       "    }\n",
       "\n",
       "    .dataframe tbody tr th {\n",
       "        vertical-align: top;\n",
       "    }\n",
       "\n",
       "    .dataframe thead th {\n",
       "        text-align: right;\n",
       "    }\n",
       "</style>\n",
       "<table border=\"1\" class=\"dataframe\">\n",
       "  <thead>\n",
       "    <tr style=\"text-align: right;\">\n",
       "      <th></th>\n",
       "      <th>alt</th>\n",
       "      <th>src</th>\n",
       "      <th>price</th>\n",
       "      <th>target</th>\n",
       "    </tr>\n",
       "  </thead>\n",
       "  <tbody>\n",
       "    <tr>\n",
       "      <th>0</th>\n",
       "      <td>Vestido Largo - Labelle</td>\n",
       "      <td>https://www.etafashion.com/medias/500000093930...</td>\n",
       "      <td>$39,98</td>\n",
       "      <td>mujer</td>\n",
       "    </tr>\n",
       "    <tr>\n",
       "      <th>1</th>\n",
       "      <td>Buzo con textura - Etabasic</td>\n",
       "      <td>https://www.etafashion.com/medias/500000091967...</td>\n",
       "      <td>$19,99</td>\n",
       "      <td>mujer</td>\n",
       "    </tr>\n",
       "    <tr>\n",
       "      <th>2</th>\n",
       "      <td>Chaleco Gabardina - Labelle</td>\n",
       "      <td>https://www.etafashion.com/medias/500000091752...</td>\n",
       "      <td>$59,98</td>\n",
       "      <td>mujer</td>\n",
       "    </tr>\n",
       "    <tr>\n",
       "      <th>3</th>\n",
       "      <td>Bermuda - Labelle</td>\n",
       "      <td>https://www.etafashion.com/medias/500000094294...</td>\n",
       "      <td>$35,99</td>\n",
       "      <td>mujer</td>\n",
       "    </tr>\n",
       "    <tr>\n",
       "      <th>4</th>\n",
       "      <td>Bermuda - Labelle</td>\n",
       "      <td>https://www.etafashion.com/medias/500000094294...</td>\n",
       "      <td>$35,99</td>\n",
       "      <td>mujer</td>\n",
       "    </tr>\n",
       "    <tr>\n",
       "      <th>...</th>\n",
       "      <td>...</td>\n",
       "      <td>...</td>\n",
       "      <td>...</td>\n",
       "      <td>...</td>\n",
       "    </tr>\n",
       "    <tr>\n",
       "      <th>5235</th>\n",
       "      <td>Camiseta Estampado</td>\n",
       "      <td>https://www.etafashion.com/medias/500000090052...</td>\n",
       "      <td>$5,00 $9,99</td>\n",
       "      <td>infante</td>\n",
       "    </tr>\n",
       "    <tr>\n",
       "      <th>5236</th>\n",
       "      <td>Camiseta Estampada</td>\n",
       "      <td>https://www.etafashion.com/medias/500000090053...</td>\n",
       "      <td>$5,00 $9,99</td>\n",
       "      <td>infante</td>\n",
       "    </tr>\n",
       "    <tr>\n",
       "      <th>5237</th>\n",
       "      <td>Chompa con capucha</td>\n",
       "      <td>https://www.etafashion.com/medias/500000090130...</td>\n",
       "      <td>$39,98</td>\n",
       "      <td>infante</td>\n",
       "    </tr>\n",
       "    <tr>\n",
       "      <th>5238</th>\n",
       "      <td>Pack X6 Medias Básicas</td>\n",
       "      <td>https://www.etafashion.com/medias/500000084836...</td>\n",
       "      <td>$6,99</td>\n",
       "      <td>infante</td>\n",
       "    </tr>\n",
       "    <tr>\n",
       "      <th>5239</th>\n",
       "      <td>Vestido a Rayas</td>\n",
       "      <td>https://www.etafashion.com/medias/500000087439...</td>\n",
       "      <td>$29,99</td>\n",
       "      <td>infante</td>\n",
       "    </tr>\n",
       "  </tbody>\n",
       "</table>\n",
       "<p>5240 rows × 4 columns</p>\n",
       "</div>"
      ],
      "text/plain": [
       "                              alt  \\\n",
       "0         Vestido Largo - Labelle   \n",
       "1     Buzo con textura - Etabasic   \n",
       "2     Chaleco Gabardina - Labelle   \n",
       "3               Bermuda - Labelle   \n",
       "4               Bermuda - Labelle   \n",
       "...                           ...   \n",
       "5235           Camiseta Estampado   \n",
       "5236           Camiseta Estampada   \n",
       "5237           Chompa con capucha   \n",
       "5238       Pack X6 Medias Básicas   \n",
       "5239              Vestido a Rayas   \n",
       "\n",
       "                                                    src        price   target  \n",
       "0     https://www.etafashion.com/medias/500000093930...       $39,98    mujer  \n",
       "1     https://www.etafashion.com/medias/500000091967...       $19,99    mujer  \n",
       "2     https://www.etafashion.com/medias/500000091752...       $59,98    mujer  \n",
       "3     https://www.etafashion.com/medias/500000094294...       $35,99    mujer  \n",
       "4     https://www.etafashion.com/medias/500000094294...       $35,99    mujer  \n",
       "...                                                 ...          ...      ...  \n",
       "5235  https://www.etafashion.com/medias/500000090052...  $5,00 $9,99  infante  \n",
       "5236  https://www.etafashion.com/medias/500000090053...  $5,00 $9,99  infante  \n",
       "5237  https://www.etafashion.com/medias/500000090130...       $39,98  infante  \n",
       "5238  https://www.etafashion.com/medias/500000084836...        $6,99  infante  \n",
       "5239  https://www.etafashion.com/medias/500000087439...       $29,99  infante  \n",
       "\n",
       "[5240 rows x 4 columns]"
      ]
     },
     "execution_count": 9,
     "metadata": {},
     "output_type": "execute_result"
    }
   ],
   "source": [
    "df"
   ]
  },
  {
   "cell_type": "code",
   "execution_count": 10,
   "metadata": {},
   "outputs": [],
   "source": [
    "df.to_csv(\"../ScrapedData/EtaFashion.csv\", index=False)"
   ]
  }
 ],
 "metadata": {
  "kernelspec": {
   "display_name": "Python 3 (ipykernel)",
   "language": "python",
   "name": "python3"
  },
  "language_info": {
   "codemirror_mode": {
    "name": "ipython",
    "version": 3
   },
   "file_extension": ".py",
   "mimetype": "text/x-python",
   "name": "python",
   "nbconvert_exporter": "python",
   "pygments_lexer": "ipython3",
   "version": "3.9.12"
  }
 },
 "nbformat": 4,
 "nbformat_minor": 2
}
