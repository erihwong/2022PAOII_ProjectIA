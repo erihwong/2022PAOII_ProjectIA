{
 "cells": [
  {
   "cell_type": "code",
   "execution_count": 1,
   "metadata": {},
   "outputs": [],
   "source": [
    "from selenium import webdriver\n",
    "from selenium.webdriver.common.by import By\n",
    "from selenium.webdriver.support.wait import WebDriverWait\n",
    "from selenium.webdriver.support import expected_conditions as EC\n",
    "import csv\n",
    "import time\n",
    "import pandas as pd"
   ]
  },
  {
   "cell_type": "code",
   "execution_count": 18,
   "metadata": {},
   "outputs": [],
   "source": [
    "#pip install selenium"
   ]
  },
  {
   "cell_type": "code",
   "execution_count": 13,
   "metadata": {},
   "outputs": [],
   "source": [
    "driver=webdriver.Chrome()"
   ]
  },
  {
   "cell_type": "code",
   "execution_count": 3,
   "metadata": {},
   "outputs": [],
   "source": [
    "DePrati_Tendencias=[\n",
    "    \"https://www.deprati.com.ec/midnight/c/0108A477\",\n",
    "    \"https://www.deprati.com.ec/natural-bloom/c/0108A479\",\n",
    "    \"https://www.deprati.com.ec/hiper-brillantes/c/0108A487\",\n",
    "    \"https://www.deprati.com.ec/eclectic/c/0108A481\",\n",
    "    \"https://www.deprati.com.ec/academy/c/0108A480\",\n",
    "    \"https://www.deprati.com.ec/artisian/c/0108A476\",\n",
    "    \"https://www.deprati.com.ec/nostalgia-denim/c/0108A478\"\n",
    "]\n",
    "DePrati_Tendencias2=[\n",
    "    \"https://www.deprati.com.ec/academy/c/0209A480\",\n",
    "    \"https://www.deprati.com.ec/crossroads/c/0209A489\",\n",
    "    \"https://www.deprati.com.ec/es/essentials/c/0209A490\",\n",
    "    \"https://www.deprati.com.ec/retro-sport/c/0209A491\",\n",
    "    \"https://www.deprati.com.ec/old-school/c/02090071\"\n",
    "]"
   ]
  },
  {
   "cell_type": "code",
   "execution_count": 10,
   "metadata": {},
   "outputs": [],
   "source": [
    "df = pd.DataFrame(columns=[\"alt\", \"src\", \"price\", \"target\"])"
   ]
  },
  {
   "cell_type": "markdown",
   "metadata": {},
   "source": [
    "# Scraping"
   ]
  },
  {
   "cell_type": "code",
   "execution_count": 14,
   "metadata": {},
   "outputs": [],
   "source": [
    "for tendencia in DePrati_Tendencias2:\n",
    "    driver.get(tendencia)\n",
    "    \n",
    "    # Code from https://stackoverflow.com/questions/20986631/how-can-i-scroll-a-web-page-using-selenium-webdriver-in-python\n",
    "    # Get scroll height\n",
    "    last_height = driver.execute_script(\"return document.body.scrollHeight\")\n",
    "    while True:\n",
    "        # Scroll down to bottom\n",
    "        driver.execute_script(\"window.scrollTo(0, document.body.scrollHeight);\")\n",
    "    \n",
    "        # Wait to load page\n",
    "        time.sleep(5)\n",
    "    \n",
    "        # Calculate new scroll height and compare with last scroll height\n",
    "        new_height = driver.execute_script(\"return document.body.scrollHeight\")\n",
    "        if new_height == last_height:\n",
    "            break\n",
    "        last_height = new_height\n",
    "    driver.execute_script(\"window.scrollTo(0, 0);\")\n",
    "    elements_img = driver.find_elements(By.XPATH, \"//div[@class='product--lister--grid--item']/a/img\")\n",
    "    elements_price = driver.find_elements(By.XPATH, \"//div[@class='product--lister--grid--item']/div[@class='info--table']/div[@class='price--cell']/div[@class='disccount']\")\n",
    "    \n",
    "    for i in range(len(elements_img)):\n",
    "        df.loc[len(df), df.columns] = elements_img[i].get_attribute(\"alt\"), elements_img[i].get_attribute(\"src\"), elements_price[i].text, \"hombre\""
   ]
  },
  {
   "cell_type": "code",
   "execution_count": 17,
   "metadata": {},
   "outputs": [
    {
     "data": {
      "text/html": [
       "<div>\n",
       "<style scoped>\n",
       "    .dataframe tbody tr th:only-of-type {\n",
       "        vertical-align: middle;\n",
       "    }\n",
       "\n",
       "    .dataframe tbody tr th {\n",
       "        vertical-align: top;\n",
       "    }\n",
       "\n",
       "    .dataframe thead th {\n",
       "        text-align: right;\n",
       "    }\n",
       "</style>\n",
       "<table border=\"1\" class=\"dataframe\">\n",
       "  <thead>\n",
       "    <tr style=\"text-align: right;\">\n",
       "      <th></th>\n",
       "      <th>alt</th>\n",
       "      <th>src</th>\n",
       "      <th>price</th>\n",
       "      <th>target</th>\n",
       "    </tr>\n",
       "  </thead>\n",
       "  <tbody>\n",
       "    <tr>\n",
       "      <th>0</th>\n",
       "      <td>JEAN SKINNY, H&amp;O, GRIS, 78% ALGODÓN 20% POLIES...</td>\n",
       "      <td>https://images.deprati.com.ec/sys-master/image...</td>\n",
       "      <td>$28,78</td>\n",
       "      <td>mujer</td>\n",
       "    </tr>\n",
       "    <tr>\n",
       "      <th>1</th>\n",
       "      <td>ENTERIZO HALTER LARGO, H&amp;O, CRUDO, 100% Poliéster</td>\n",
       "      <td>https://images.deprati.com.ec/sys-master/image...</td>\n",
       "      <td>$39,98</td>\n",
       "      <td>mujer</td>\n",
       "    </tr>\n",
       "    <tr>\n",
       "      <th>2</th>\n",
       "      <td>JEAN SKINNY, H&amp;O, AZUL CLARO, 78% ALGODÓN 20% ...</td>\n",
       "      <td>https://images.deprati.com.ec/sys-master/image...</td>\n",
       "      <td>$28,78</td>\n",
       "      <td>mujer</td>\n",
       "    </tr>\n",
       "    <tr>\n",
       "      <th>3</th>\n",
       "      <td>JEAN SKINNY, H&amp;O, AZUL CLARO, 97% ALGODON 3% E...</td>\n",
       "      <td>https://images.deprati.com.ec/sys-master/image...</td>\n",
       "      <td>$28,78</td>\n",
       "      <td>mujer</td>\n",
       "    </tr>\n",
       "    <tr>\n",
       "      <th>4</th>\n",
       "      <td>BUZO UNICOLOR CUT OUT, H&amp;O, ROJO, 65% Polieste...</td>\n",
       "      <td>https://images.deprati.com.ec/sys-master/image...</td>\n",
       "      <td>$23,99</td>\n",
       "      <td>mujer</td>\n",
       "    </tr>\n",
       "    <tr>\n",
       "      <th>...</th>\n",
       "      <td>...</td>\n",
       "      <td>...</td>\n",
       "      <td>...</td>\n",
       "      <td>...</td>\n",
       "    </tr>\n",
       "    <tr>\n",
       "      <th>787</th>\n",
       "      <td>CAMISA MODA SLIM CUELLO ITALIANO              ...</td>\n",
       "      <td>https://images.deprati.com.ec/sys-master/image...</td>\n",
       "      <td>$39,98</td>\n",
       "      <td>hombre</td>\n",
       "    </tr>\n",
       "    <tr>\n",
       "      <th>788</th>\n",
       "      <td>CAMISA MODA REGULAR, EXPRESSIONS, BLANCO, 100%...</td>\n",
       "      <td>https://images.deprati.com.ec/sys-master/image...</td>\n",
       "      <td>$39,98</td>\n",
       "      <td>hombre</td>\n",
       "    </tr>\n",
       "    <tr>\n",
       "      <th>789</th>\n",
       "      <td>CAMISA MODA SLIM CUELLO ITALIANO              ...</td>\n",
       "      <td>https://images.deprati.com.ec/sys-master/image...</td>\n",
       "      <td>$39,98</td>\n",
       "      <td>hombre</td>\n",
       "    </tr>\n",
       "    <tr>\n",
       "      <th>790</th>\n",
       "      <td>CAMISA MODA REGULAR, EXPRESSIONS, CELESTE COMB...</td>\n",
       "      <td>https://images.deprati.com.ec/sys-master/image...</td>\n",
       "      <td>$39,98</td>\n",
       "      <td>hombre</td>\n",
       "    </tr>\n",
       "    <tr>\n",
       "      <th>791</th>\n",
       "      <td>CAMISA MANGA LARGA, CLASSIC FIT, MARCA STEFANO...</td>\n",
       "      <td>https://images.deprati.com.ec/sys-master/image...</td>\n",
       "      <td>$19,99</td>\n",
       "      <td>hombre</td>\n",
       "    </tr>\n",
       "  </tbody>\n",
       "</table>\n",
       "<p>792 rows × 4 columns</p>\n",
       "</div>"
      ],
      "text/plain": [
       "                                                   alt  \\\n",
       "0    JEAN SKINNY, H&O, GRIS, 78% ALGODÓN 20% POLIES...   \n",
       "1    ENTERIZO HALTER LARGO, H&O, CRUDO, 100% Poliéster   \n",
       "2    JEAN SKINNY, H&O, AZUL CLARO, 78% ALGODÓN 20% ...   \n",
       "3    JEAN SKINNY, H&O, AZUL CLARO, 97% ALGODON 3% E...   \n",
       "4    BUZO UNICOLOR CUT OUT, H&O, ROJO, 65% Polieste...   \n",
       "..                                                 ...   \n",
       "787  CAMISA MODA SLIM CUELLO ITALIANO              ...   \n",
       "788  CAMISA MODA REGULAR, EXPRESSIONS, BLANCO, 100%...   \n",
       "789  CAMISA MODA SLIM CUELLO ITALIANO              ...   \n",
       "790  CAMISA MODA REGULAR, EXPRESSIONS, CELESTE COMB...   \n",
       "791  CAMISA MANGA LARGA, CLASSIC FIT, MARCA STEFANO...   \n",
       "\n",
       "                                                   src   price  target  \n",
       "0    https://images.deprati.com.ec/sys-master/image...  $28,78   mujer  \n",
       "1    https://images.deprati.com.ec/sys-master/image...  $39,98   mujer  \n",
       "2    https://images.deprati.com.ec/sys-master/image...  $28,78   mujer  \n",
       "3    https://images.deprati.com.ec/sys-master/image...  $28,78   mujer  \n",
       "4    https://images.deprati.com.ec/sys-master/image...  $23,99   mujer  \n",
       "..                                                 ...     ...     ...  \n",
       "787  https://images.deprati.com.ec/sys-master/image...  $39,98  hombre  \n",
       "788  https://images.deprati.com.ec/sys-master/image...  $39,98  hombre  \n",
       "789  https://images.deprati.com.ec/sys-master/image...  $39,98  hombre  \n",
       "790  https://images.deprati.com.ec/sys-master/image...  $39,98  hombre  \n",
       "791  https://images.deprati.com.ec/sys-master/image...  $19,99  hombre  \n",
       "\n",
       "[792 rows x 4 columns]"
      ]
     },
     "execution_count": 17,
     "metadata": {},
     "output_type": "execute_result"
    }
   ],
   "source": [
    "df"
   ]
  },
  {
   "cell_type": "code",
   "execution_count": 18,
   "metadata": {},
   "outputs": [],
   "source": [
    "df.to_csv(\"../ScrapedData/DePrati.csv\", index=False)"
   ]
  }
 ],
 "metadata": {
  "kernelspec": {
   "display_name": "Python 3 (ipykernel)",
   "language": "python",
   "name": "python3"
  },
  "language_info": {
   "codemirror_mode": {
    "name": "ipython",
    "version": 3
   },
   "file_extension": ".py",
   "mimetype": "text/x-python",
   "name": "python",
   "nbconvert_exporter": "python",
   "pygments_lexer": "ipython3",
   "version": "3.9.12"
  }
 },
 "nbformat": 4,
 "nbformat_minor": 2
}
