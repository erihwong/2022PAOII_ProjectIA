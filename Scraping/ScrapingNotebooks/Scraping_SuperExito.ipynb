{
 "cells": [
  {
   "cell_type": "code",
   "execution_count": 1,
   "metadata": {},
   "outputs": [],
   "source": [
    "from selenium import webdriver\n",
    "from selenium.webdriver.common.by import By\n",
    "from selenium.webdriver.support.wait import WebDriverWait\n",
    "from selenium.webdriver.support import expected_conditions as EC\n",
    "import csv\n",
    "import time\n",
    "import pandas as pd\n",
    "import math"
   ]
  },
  {
   "cell_type": "code",
   "execution_count": 2,
   "metadata": {},
   "outputs": [],
   "source": [
    "#pip install selenium"
   ]
  },
  {
   "cell_type": "code",
   "execution_count": 7,
   "metadata": {},
   "outputs": [],
   "source": [
    "driver=webdriver.Chrome()"
   ]
  },
  {
   "cell_type": "code",
   "execution_count": 4,
   "metadata": {},
   "outputs": [],
   "source": [
    "SuperExito_Categorias=[\n",
    "    \"https://www.superexito.com.ec/mujeres\",\n",
    "    \"https://www.superexito.com.ec/hombres\",\n",
    "    \"https://www.superexito.com.ec/juvenil-mujeres/ropa-chicas\",\n",
    "    \"https://www.superexito.com.ec/juvenil-hombres/ropa-chicos\",\n",
    "    \"https://www.superexito.com.ec/bebes/bebe-nino\",\n",
    "    \"https://www.superexito.com.ec/ninos/ninos-2-8y\",\n",
    "    \"https://www.superexito.com.ec/ninos/ninos-10-16y\"\n",
    "]"
   ]
  },
  {
   "cell_type": "code",
   "execution_count": 5,
   "metadata": {},
   "outputs": [],
   "source": [
    "df = pd.DataFrame(columns=[\"alt\", \"src\", \"price\", \"target\"])"
   ]
  },
  {
   "cell_type": "markdown",
   "metadata": {},
   "source": [
    "# Scraping"
   ]
  },
  {
   "cell_type": "code",
   "execution_count": 8,
   "metadata": {
    "scrolled": true
   },
   "outputs": [],
   "source": [
    "for categoria in SuperExito_Categorias:\n",
    "    if(\"mujeres\" in categoria):\n",
    "        target = \"mujer\"\n",
    "    elif(\"hombres\" in categoria):\n",
    "        target = \"hombre\"\n",
    "    elif(\"bebes\" in categoria):\n",
    "        target = \"infante\"\n",
    "    elif(\"ninos\" in categoria):\n",
    "        target = \"nino\"\n",
    "    driver.get(categoria)\n",
    "    products_imgs = driver.find_elements(By.XPATH, \"//div[@class='vitrina-producto n1colunas']//img\")\n",
    "    products_descrip = driver.find_elements(By.XPATH, \"//div[@class='vitrina-producto n1colunas']//div[@class='product-price mt-2']//div[@class='col-sm-12 product-name-category']\")\n",
    "    products_prices = driver.find_elements(By.XPATH, \"//div[@class='vitrina-producto n1colunas']//div[@class='product-price mt-2']//div[@class='col-12']\")\n",
    "    \n",
    "    for i in range(len(products_imgs)):\n",
    "        df.loc[len(df), df.columns] = products_descrip[i].text, products_imgs[i].get_attribute(\"src\"), products_prices[i].text, target\n",
    "driver.close()"
   ]
  },
  {
   "cell_type": "code",
   "execution_count": 11,
   "metadata": {},
   "outputs": [
    {
     "data": {
      "text/html": [
       "<div>\n",
       "<style scoped>\n",
       "    .dataframe tbody tr th:only-of-type {\n",
       "        vertical-align: middle;\n",
       "    }\n",
       "\n",
       "    .dataframe tbody tr th {\n",
       "        vertical-align: top;\n",
       "    }\n",
       "\n",
       "    .dataframe thead th {\n",
       "        text-align: right;\n",
       "    }\n",
       "</style>\n",
       "<table border=\"1\" class=\"dataframe\">\n",
       "  <thead>\n",
       "    <tr style=\"text-align: right;\">\n",
       "      <th></th>\n",
       "      <th>alt</th>\n",
       "      <th>src</th>\n",
       "      <th>price</th>\n",
       "      <th>target</th>\n",
       "    </tr>\n",
       "  </thead>\n",
       "  <tbody>\n",
       "    <tr>\n",
       "      <th>0</th>\n",
       "      <td>Vestido De Lentejuelas Iris | Color Dorado</td>\n",
       "      <td>https://superexitoec.vteximg.com.br/arquivos/i...</td>\n",
       "      <td>$36.99</td>\n",
       "      <td>mujer</td>\n",
       "    </tr>\n",
       "    <tr>\n",
       "      <th>1</th>\n",
       "      <td>Pijama Capri Gris Friday | Super Exito</td>\n",
       "      <td>https://superexitoec.vteximg.com.br/arquivos/i...</td>\n",
       "      <td>$14.99</td>\n",
       "      <td>mujer</td>\n",
       "    </tr>\n",
       "    <tr>\n",
       "      <th>2</th>\n",
       "      <td>Pijama Capri Rosado Tiras Happy | Super Exito</td>\n",
       "      <td>https://superexitoec.vteximg.com.br/arquivos/i...</td>\n",
       "      <td>$14.99</td>\n",
       "      <td>mujer</td>\n",
       "    </tr>\n",
       "    <tr>\n",
       "      <th>3</th>\n",
       "      <td>Pijama Capri Verde Tiras Happy | Super Exito</td>\n",
       "      <td>https://superexitoec.vteximg.com.br/arquivos/i...</td>\n",
       "      <td>$14.99</td>\n",
       "      <td>mujer</td>\n",
       "    </tr>\n",
       "    <tr>\n",
       "      <th>4</th>\n",
       "      <td>Pijama Pantalon Largo Blanco Zebra | Super Exito</td>\n",
       "      <td>https://superexitoec.vteximg.com.br/arquivos/i...</td>\n",
       "      <td>$19.99</td>\n",
       "      <td>mujer</td>\n",
       "    </tr>\n",
       "    <tr>\n",
       "      <th>...</th>\n",
       "      <td>...</td>\n",
       "      <td>...</td>\n",
       "      <td>...</td>\n",
       "      <td>...</td>\n",
       "    </tr>\n",
       "    <tr>\n",
       "      <th>244</th>\n",
       "      <td>Camiseta Astronauts Sneak</td>\n",
       "      <td>https://superexitoec.vteximg.com.br/arquivos/i...</td>\n",
       "      <td>$15.99</td>\n",
       "      <td>nino</td>\n",
       "    </tr>\n",
       "    <tr>\n",
       "      <th>245</th>\n",
       "      <td>Camiseta Next Level Sneak</td>\n",
       "      <td>https://superexitoec.vteximg.com.br/arquivos/i...</td>\n",
       "      <td>$15.99</td>\n",
       "      <td>nino</td>\n",
       "    </tr>\n",
       "    <tr>\n",
       "      <th>246</th>\n",
       "      <td>Camiseta Planets Sneak</td>\n",
       "      <td>https://superexitoec.vteximg.com.br/arquivos/i...</td>\n",
       "      <td>$15.99</td>\n",
       "      <td>nino</td>\n",
       "    </tr>\n",
       "    <tr>\n",
       "      <th>247</th>\n",
       "      <td>Camiseta Estampada Jhonny Fox</td>\n",
       "      <td>https://superexitoec.vteximg.com.br/arquivos/i...</td>\n",
       "      <td>$12.00</td>\n",
       "      <td>nino</td>\n",
       "    </tr>\n",
       "    <tr>\n",
       "      <th>248</th>\n",
       "      <td>Camiseta Utra Sneak</td>\n",
       "      <td>https://superexitoec.vteximg.com.br/arquivos/i...</td>\n",
       "      <td>$15.99</td>\n",
       "      <td>nino</td>\n",
       "    </tr>\n",
       "  </tbody>\n",
       "</table>\n",
       "<p>249 rows × 4 columns</p>\n",
       "</div>"
      ],
      "text/plain": [
       "                                                  alt  \\\n",
       "0          Vestido De Lentejuelas Iris | Color Dorado   \n",
       "1              Pijama Capri Gris Friday | Super Exito   \n",
       "2       Pijama Capri Rosado Tiras Happy | Super Exito   \n",
       "3        Pijama Capri Verde Tiras Happy | Super Exito   \n",
       "4    Pijama Pantalon Largo Blanco Zebra | Super Exito   \n",
       "..                                                ...   \n",
       "244                         Camiseta Astronauts Sneak   \n",
       "245                         Camiseta Next Level Sneak   \n",
       "246                            Camiseta Planets Sneak   \n",
       "247                     Camiseta Estampada Jhonny Fox   \n",
       "248                               Camiseta Utra Sneak   \n",
       "\n",
       "                                                   src   price target  \n",
       "0    https://superexitoec.vteximg.com.br/arquivos/i...  $36.99  mujer  \n",
       "1    https://superexitoec.vteximg.com.br/arquivos/i...  $14.99  mujer  \n",
       "2    https://superexitoec.vteximg.com.br/arquivos/i...  $14.99  mujer  \n",
       "3    https://superexitoec.vteximg.com.br/arquivos/i...  $14.99  mujer  \n",
       "4    https://superexitoec.vteximg.com.br/arquivos/i...  $19.99  mujer  \n",
       "..                                                 ...     ...    ...  \n",
       "244  https://superexitoec.vteximg.com.br/arquivos/i...  $15.99   nino  \n",
       "245  https://superexitoec.vteximg.com.br/arquivos/i...  $15.99   nino  \n",
       "246  https://superexitoec.vteximg.com.br/arquivos/i...  $15.99   nino  \n",
       "247  https://superexitoec.vteximg.com.br/arquivos/i...  $12.00   nino  \n",
       "248  https://superexitoec.vteximg.com.br/arquivos/i...  $15.99   nino  \n",
       "\n",
       "[249 rows x 4 columns]"
      ]
     },
     "execution_count": 11,
     "metadata": {},
     "output_type": "execute_result"
    }
   ],
   "source": [
    "df"
   ]
  },
  {
   "cell_type": "code",
   "execution_count": 12,
   "metadata": {},
   "outputs": [],
   "source": [
    "df.to_csv(\"../ScrapedData/SuperExito.csv\", index=False)"
   ]
  }
 ],
 "metadata": {
  "kernelspec": {
   "display_name": "Python 3 (ipykernel)",
   "language": "python",
   "name": "python3"
  },
  "language_info": {
   "codemirror_mode": {
    "name": "ipython",
    "version": 3
   },
   "file_extension": ".py",
   "mimetype": "text/x-python",
   "name": "python",
   "nbconvert_exporter": "python",
   "pygments_lexer": "ipython3",
   "version": "3.9.12"
  }
 },
 "nbformat": 4,
 "nbformat_minor": 2
}
