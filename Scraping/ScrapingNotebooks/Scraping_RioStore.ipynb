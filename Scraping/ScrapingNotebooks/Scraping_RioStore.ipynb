{
 "cells": [
  {
   "cell_type": "code",
   "execution_count": 79,
   "metadata": {},
   "outputs": [],
   "source": [
    "from selenium import webdriver\n",
    "from selenium.webdriver.common.by import By\n",
    "from selenium.webdriver.support.ui import WebDriverWait\n",
    "from selenium.webdriver.support import expected_conditions as EC\n",
    "import csv\n",
    "import time\n",
    "import pandas as pd\n",
    "import math\n",
    "from selenium.webdriver.common.action_chains import ActionChains"
   ]
  },
  {
   "cell_type": "code",
   "execution_count": 3,
   "metadata": {},
   "outputs": [],
   "source": [
    "#pip install selenium"
   ]
  },
  {
   "cell_type": "code",
   "execution_count": 91,
   "metadata": {},
   "outputs": [],
   "source": [
    "driver=webdriver.Chrome()"
   ]
  },
  {
   "cell_type": "code",
   "execution_count": 82,
   "metadata": {},
   "outputs": [],
   "source": [
    "RioStore_Categorias=[\n",
    "    \"https://www.frecuento.com/categorias/mujer/15280/productos/?category=15281%2C15286%2C15415%2C15378%2C15294%2C15357%2C15287%2C15435%2C15296%2C15417%2C15319%2C15285%2C15416&brand=&price__gt=&price__lt=&variants=&attributes=&order_by=&page=1&stock=true&name=mujer\",\n",
    "    \"https://www.frecuento.com/categorias/mujer/15280/productos/?category=15281%2C15286%2C15415%2C15378%2C15294%2C15357%2C15287%2C15435%2C15296%2C15417%2C15319%2C15285%2C15416&brand=&price__gt=&price__lt=&variants=&attributes=&order_by=&page=2&stock=true&name=mujer\",\n",
    "    \"https://www.frecuento.com/categorias/mujer/15280/productos/?category=15281%2C15286%2C15415%2C15378%2C15294%2C15357%2C15287%2C15435%2C15296%2C15417%2C15319%2C15285%2C15416&brand=&price__gt=&price__lt=&variants=&attributes=&order_by=&page=3&stock=true&name=mujer\",\n",
    "    \"https://www.frecuento.com/categorias/mujer/15280/productos/?category=15281%2C15286%2C15415%2C15378%2C15294%2C15357%2C15287%2C15435%2C15296%2C15417%2C15319%2C15285%2C15416&brand=&price__gt=&price__lt=&variants=&attributes=&order_by=&page=4&stock=true&name=mujer\",\n",
    "    \"https://www.frecuento.com/categorias/mujer/15280/productos/?category=15281%2C15286%2C15415%2C15378%2C15294%2C15357%2C15287%2C15435%2C15296%2C15417%2C15319%2C15285%2C15416&brand=&price__gt=&price__lt=&variants=&attributes=&order_by=&page=5&stock=true&name=mujer\",\n",
    "    \"https://www.frecuento.com/categorias/mujer/15280/productos/?category=15281%2C15286%2C15415%2C15378%2C15294%2C15357%2C15287%2C15435%2C15296%2C15417%2C15319%2C15285%2C15416&brand=&price__gt=&price__lt=&variants=&attributes=&order_by=&page=6&stock=true&name=mujer\",\n",
    "    \"https://www.frecuento.com/categorias/mujer/15280/productos/?category=15281%2C15286%2C15415%2C15378%2C15294%2C15357%2C15287%2C15435%2C15296%2C15417%2C15319%2C15285%2C15416&brand=&price__gt=&price__lt=&variants=&attributes=&order_by=&page=7&stock=true&name=mujer\",\n",
    "    \"https://www.frecuento.com/categorias/mujer/15280/productos/?category=15281%2C15286%2C15415%2C15378%2C15294%2C15357%2C15287%2C15435%2C15296%2C15417%2C15319%2C15285%2C15416&brand=&price__gt=&price__lt=&variants=&attributes=&order_by=&page=8&stock=true&name=mujer\",\n",
    "    \"https://www.frecuento.com/categorias/mujer/15280/productos/?category=15281%2C15286%2C15415%2C15378%2C15294%2C15357%2C15287%2C15435%2C15296%2C15417%2C15319%2C15285%2C15416&brand=&price__gt=&price__lt=&variants=&attributes=&order_by=&page=9&stock=true&name=mujer\",\n",
    "    \"https://www.frecuento.com/categorias/mujer/15280/productos/?category=15281%2C15286%2C15415%2C15378%2C15294%2C15357%2C15287%2C15435%2C15296%2C15417%2C15319%2C15285%2C15416&brand=&price__gt=&price__lt=&variants=&attributes=&order_by=&page=10&stock=true&name=mujer\",\n",
    "    \"https://www.frecuento.com/categorias/hombre/15288/productos/?category=15289%2C15298%2C15431%2C15303%2C15436%2C15353%2C15304%2C15305&brand=&price__gt=&price__lt=&variants=&attributes=&order_by=&page=1&stock=true&name=hombre\",\n",
    "    \"https://www.frecuento.com/categorias/hombre/15288/productos/?category=15289%2C15298%2C15431%2C15303%2C15436%2C15353%2C15304%2C15305&brand=&price__gt=&price__lt=&variants=&attributes=&order_by=&page=2&stock=true&name=hombre\",\n",
    "    \"https://www.frecuento.com/categorias/hombre/15288/productos/?category=15289%2C15298%2C15431%2C15303%2C15436%2C15353%2C15304%2C15305&brand=&price__gt=&price__lt=&variants=&attributes=&order_by=&page=3&stock=true&name=hombre\",\n",
    "    \"https://www.frecuento.com/categorias/hombre/15288/productos/?category=15289%2C15298%2C15431%2C15303%2C15436%2C15353%2C15304%2C15305&brand=&price__gt=&price__lt=&variants=&attributes=&order_by=&page=4&stock=true&name=hombre\",\n",
    "    \"https://www.frecuento.com/categorias/hombre/15288/productos/?category=15289%2C15298%2C15431%2C15303%2C15436%2C15353%2C15304%2C15305&brand=&price__gt=&price__lt=&variants=&attributes=&order_by=&page=5&stock=true&name=hombre\",\n",
    "    \"https://www.frecuento.com/categorias/hombre/15288/productos/?category=15289%2C15298%2C15431%2C15303%2C15436%2C15353%2C15304%2C15305&brand=&price__gt=&price__lt=&variants=&attributes=&order_by=&page=6&stock=true&name=hombre\",\n",
    "    \"https://www.frecuento.com/categorias/hombre/15288/productos/?category=15289%2C15298%2C15431%2C15303%2C15436%2C15353%2C15304%2C15305&brand=&price__gt=&price__lt=&variants=&attributes=&order_by=&page=7&stock=true&name=hombre\",\n",
    "    \"https://www.frecuento.com/categorias/hombre/15288/productos/?category=15289%2C15298%2C15431%2C15303%2C15436%2C15353%2C15304%2C15305&brand=&price__gt=&price__lt=&variants=&attributes=&order_by=&page=8&stock=true&name=hombre\",\n",
    "    \"https://www.frecuento.com/categorias/hombre/15288/productos/?category=15289%2C15298%2C15431%2C15303%2C15436%2C15353%2C15304%2C15305&brand=&price__gt=&price__lt=&variants=&attributes=&order_by=&page=9&stock=true&name=hombre\"\n",
    "]"
   ]
  },
  {
   "cell_type": "code",
   "execution_count": 89,
   "metadata": {},
   "outputs": [],
   "source": [
    "df = pd.DataFrame(columns=[\"alt\", \"src\", \"price\", \"target\"])"
   ]
  },
  {
   "cell_type": "markdown",
   "metadata": {},
   "source": [
    "# Scraping"
   ]
  },
  {
   "cell_type": "code",
   "execution_count": 74,
   "metadata": {},
   "outputs": [],
   "source": [
    "for categoria in Koaj_Categorias:\n",
    "    genero = categoria.split(\"/\")[3]\n",
    "    driver.get(categoria)\n",
    "    time.sleep(20)\n",
    "    products_imgs = driver.find_elements(By.XPATH, \"//li[@class='col-xs-6 col-md-3 product_list_block ajax_block_product format normal']/div/div/div/a/span/img\")\n",
    "    products_prices = driver.find_elements(By.XPATH, \"//li[@class='col-xs-6 col-md-3 product_list_block ajax_block_product format normal']/div/div/div[@class='pro_second_box']/div/span[@class='price product-price']\")\n",
    "    \n",
    "    for e in range(len(products_imgs)):\n",
    "        #print(products_imgs[e].get_attribute(\"src\"))\n",
    "        #print(products_imgs[e].get_attribute(\"alt\"))\n",
    "        #print(products_prices[e].text)\n",
    "        df.loc[len(df), df.columns] = products_imgs[e].get_attribute(\"alt\"), products_imgs[e].get_attribute(\"src\"), products_prices[e].text, genero"
   ]
  },
  {
   "cell_type": "code",
   "execution_count": 92,
   "metadata": {},
   "outputs": [],
   "source": [
    "for categoria in RioStore_Categorias:\n",
    "    if(\"mujer\" in categoria):\n",
    "        target = \"mujer\"\n",
    "    else:\n",
    "        target = \"hombre\"\n",
    "    driver.get(categoria)\n",
    "    actual_height= 0\n",
    "    \n",
    "    time.sleep(20)\n",
    "    last_height = driver.execute_script(\"return document.body.scrollHeight\")\n",
    "    while(actual_height < last_height):\n",
    "        driver.execute_script(\"window.scrollBy(0,\"+str(actual_height)+\")\",\"\")\n",
    "        actual_height = actual_height + 1\n",
    "\n",
    "    products_imgs = driver.find_elements(By.XPATH, \"//div[@class='item-container-product row-separate col-sm-12 col-md-4 col-lg-4 col-xl-3']//img[@class='img']\")\n",
    "    products_prices = driver.find_elements(By.XPATH, \"//div[@class='item-container-product row-separate col-sm-12 col-md-4 col-lg-4 col-xl-3']//p\")\n",
    "    for e in range(len(products_imgs)):\n",
    "        df.loc[len(df), df.columns] = products_imgs[e].get_attribute(\"alt\"), products_imgs[e].get_attribute(\"src\"), products_prices[e].text, target"
   ]
  },
  {
   "cell_type": "code",
   "execution_count": 101,
   "metadata": {},
   "outputs": [
    {
     "data": {
      "text/html": [
       "<div>\n",
       "<style scoped>\n",
       "    .dataframe tbody tr th:only-of-type {\n",
       "        vertical-align: middle;\n",
       "    }\n",
       "\n",
       "    .dataframe tbody tr th {\n",
       "        vertical-align: top;\n",
       "    }\n",
       "\n",
       "    .dataframe thead th {\n",
       "        text-align: right;\n",
       "    }\n",
       "</style>\n",
       "<table border=\"1\" class=\"dataframe\">\n",
       "  <thead>\n",
       "    <tr style=\"text-align: right;\">\n",
       "      <th></th>\n",
       "      <th>alt</th>\n",
       "      <th>src</th>\n",
       "      <th>price</th>\n",
       "      <th>target</th>\n",
       "    </tr>\n",
       "  </thead>\n",
       "  <tbody>\n",
       "    <tr>\n",
       "      <th>0</th>\n",
       "      <td>Vestido Dama Juvenil GZ Fashion Tiras Rosa - V...</td>\n",
       "      <td>https://d2o812a6k13pkp.cloudfront.net/fit-in/1...</td>\n",
       "      <td>$32.39</td>\n",
       "      <td>mujer</td>\n",
       "    </tr>\n",
       "    <tr>\n",
       "      <th>1</th>\n",
       "      <td>Traje de Baño Entero Actitude Deportivo Azul R...</td>\n",
       "      <td>https://d2o812a6k13pkp.cloudfront.net/fit-in/1...</td>\n",
       "      <td>$20.70</td>\n",
       "      <td>mujer</td>\n",
       "    </tr>\n",
       "    <tr>\n",
       "      <th>2</th>\n",
       "      <td>Traje de Baño Deportivo Nery Fas Entero Azul -...</td>\n",
       "      <td>https://d2o812a6k13pkp.cloudfront.net/fit-in/1...</td>\n",
       "      <td>$19.99</td>\n",
       "      <td>mujer</td>\n",
       "    </tr>\n",
       "    <tr>\n",
       "      <th>3</th>\n",
       "      <td>Body Dama Juvenil Happy Land Azul - Varias Tal...</td>\n",
       "      <td>https://d2o812a6k13pkp.cloudfront.net/fit-in/1...</td>\n",
       "      <td>$23.99</td>\n",
       "      <td>mujer</td>\n",
       "    </tr>\n",
       "    <tr>\n",
       "      <th>4</th>\n",
       "      <td>Brasilera Dama Laura Blanco - Varias Tallas - ...</td>\n",
       "      <td>https://d2o812a6k13pkp.cloudfront.net/fit-in/1...</td>\n",
       "      <td>$9.99</td>\n",
       "      <td>mujer</td>\n",
       "    </tr>\n",
       "    <tr>\n",
       "      <th>...</th>\n",
       "      <td>...</td>\n",
       "      <td>...</td>\n",
       "      <td>...</td>\n",
       "      <td>...</td>\n",
       "    </tr>\n",
       "    <tr>\n",
       "      <th>826</th>\n",
       "      <td>Zapatilla Caballero Barú Negro - Varias Tallas...</td>\n",
       "      <td>https://d2o812a6k13pkp.cloudfront.net/fit-in/1...</td>\n",
       "      <td>$12.29</td>\n",
       "      <td>hombre</td>\n",
       "    </tr>\n",
       "    <tr>\n",
       "      <th>827</th>\n",
       "      <td>Zapatilla Caballero Barú Café - Varias Tallas ...</td>\n",
       "      <td>https://d2o812a6k13pkp.cloudfront.net/fit-in/1...</td>\n",
       "      <td>$11.16</td>\n",
       "      <td>hombre</td>\n",
       "    </tr>\n",
       "    <tr>\n",
       "      <th>828</th>\n",
       "      <td>Zapatilla Caballero Barú Gris/Azul - Varias T...</td>\n",
       "      <td>https://d2o812a6k13pkp.cloudfront.net/fit-in/1...</td>\n",
       "      <td>$12.29</td>\n",
       "      <td>hombre</td>\n",
       "    </tr>\n",
       "    <tr>\n",
       "      <th>829</th>\n",
       "      <td>Boxer Caballero Everlast Llano Blanco - Varias...</td>\n",
       "      <td>https://d2o812a6k13pkp.cloudfront.net/fit-in/1...</td>\n",
       "      <td>$7.85</td>\n",
       "      <td>hombre</td>\n",
       "    </tr>\n",
       "    <tr>\n",
       "      <th>830</th>\n",
       "      <td>Boxer Caballero Gym Azul/Gris - Varias Tallas ...</td>\n",
       "      <td>https://d2o812a6k13pkp.cloudfront.net/fit-in/1...</td>\n",
       "      <td>$6.27</td>\n",
       "      <td>hombre</td>\n",
       "    </tr>\n",
       "  </tbody>\n",
       "</table>\n",
       "<p>831 rows × 4 columns</p>\n",
       "</div>"
      ],
      "text/plain": [
       "                                                   alt  \\\n",
       "0    Vestido Dama Juvenil GZ Fashion Tiras Rosa - V...   \n",
       "1    Traje de Baño Entero Actitude Deportivo Azul R...   \n",
       "2    Traje de Baño Deportivo Nery Fas Entero Azul -...   \n",
       "3    Body Dama Juvenil Happy Land Azul - Varias Tal...   \n",
       "4    Brasilera Dama Laura Blanco - Varias Tallas - ...   \n",
       "..                                                 ...   \n",
       "826  Zapatilla Caballero Barú Negro - Varias Tallas...   \n",
       "827  Zapatilla Caballero Barú Café - Varias Tallas ...   \n",
       "828   Zapatilla Caballero Barú Gris/Azul - Varias T...   \n",
       "829  Boxer Caballero Everlast Llano Blanco - Varias...   \n",
       "830  Boxer Caballero Gym Azul/Gris - Varias Tallas ...   \n",
       "\n",
       "                                                   src   price  target  \n",
       "0    https://d2o812a6k13pkp.cloudfront.net/fit-in/1...  $32.39   mujer  \n",
       "1    https://d2o812a6k13pkp.cloudfront.net/fit-in/1...  $20.70   mujer  \n",
       "2    https://d2o812a6k13pkp.cloudfront.net/fit-in/1...  $19.99   mujer  \n",
       "3    https://d2o812a6k13pkp.cloudfront.net/fit-in/1...  $23.99   mujer  \n",
       "4    https://d2o812a6k13pkp.cloudfront.net/fit-in/1...   $9.99   mujer  \n",
       "..                                                 ...     ...     ...  \n",
       "826  https://d2o812a6k13pkp.cloudfront.net/fit-in/1...  $12.29  hombre  \n",
       "827  https://d2o812a6k13pkp.cloudfront.net/fit-in/1...  $11.16  hombre  \n",
       "828  https://d2o812a6k13pkp.cloudfront.net/fit-in/1...  $12.29  hombre  \n",
       "829  https://d2o812a6k13pkp.cloudfront.net/fit-in/1...   $7.85  hombre  \n",
       "830  https://d2o812a6k13pkp.cloudfront.net/fit-in/1...   $6.27  hombre  \n",
       "\n",
       "[831 rows x 4 columns]"
      ]
     },
     "execution_count": 101,
     "metadata": {},
     "output_type": "execute_result"
    }
   ],
   "source": [
    "df"
   ]
  },
  {
   "cell_type": "code",
   "execution_count": 102,
   "metadata": {},
   "outputs": [],
   "source": [
    "df.to_csv(\"../ScrapedData/RioStore.csv\", index=False)"
   ]
  }
 ],
 "metadata": {
  "kernelspec": {
   "display_name": "Python 3 (ipykernel)",
   "language": "python",
   "name": "python3"
  },
  "language_info": {
   "codemirror_mode": {
    "name": "ipython",
    "version": 3
   },
   "file_extension": ".py",
   "mimetype": "text/x-python",
   "name": "python",
   "nbconvert_exporter": "python",
   "pygments_lexer": "ipython3",
   "version": "3.9.12"
  }
 },
 "nbformat": 4,
 "nbformat_minor": 2
}
